{
 "cells": [
  {
   "cell_type": "code",
   "execution_count": 4,
   "id": "2a7a736b",
   "metadata": {},
   "outputs": [
    {
     "name": "stdout",
     "output_type": "stream",
     "text": [
      "pygame 2.6.0 (SDL 2.28.4, Python 3.10.9)\n",
      "Hello from the pygame community. https://www.pygame.org/contribute.html\n"
     ]
    }
   ],
   "source": [
    "import cv2\n",
    "import os\n",
    "from keras.models import load_model\n",
    "import numpy as np\n",
    "from pygame import mixer\n",
    "import time"
   ]
  },
  {
   "cell_type": "code",
   "execution_count": 5,
   "id": "b37fb142",
   "metadata": {},
   "outputs": [],
   "source": [
    "mixer.init()\n",
    "sound = mixer.Sound('alarm.wav')"
   ]
  },
  {
   "cell_type": "code",
   "execution_count": 6,
   "id": "34c919cd",
   "metadata": {},
   "outputs": [],
   "source": [
    "face = cv2.CascadeClassifier(r\"C:\\Users\\Nitesh\\Desktop\\MINOR PROJECTS\\MInor project 5\\Drowsiness detection\\haar cascade files\\haarcascade_frontalface_alt.xml\")\n",
    "leye = cv2.CascadeClassifier(r\"C:\\Users\\Nitesh\\Desktop\\MINOR PROJECTS\\MInor project 5\\Drowsiness detection\\haar cascade files\\haarcascade_lefteye_2splits.xml\")\n",
    "reye = cv2.CascadeClassifier(r\"C:\\Users\\Nitesh\\Desktop\\MINOR PROJECTS\\MInor project 5\\Drowsiness detection\\haar cascade files\\haarcascade_righteye_2splits.xml\")\n"
   ]
  },
  {
   "cell_type": "code",
   "execution_count": 7,
   "id": "1346b5ce",
   "metadata": {},
   "outputs": [],
   "source": [
    "lbl=['Close','Open']"
   ]
  },
  {
   "cell_type": "code",
   "execution_count": 8,
   "id": "baac6ac5",
   "metadata": {},
   "outputs": [],
   "source": [
    "model = load_model(r\"C:\\Users\\Nitesh\\Desktop\\MINOR PROJECTS\\MInor project 5\\Drowsiness detection\\models\\cnnCat2.h5\")\n",
    "path = os.getcwd()\n",
    "cap = cv2.VideoCapture(1)\n",
    "font = cv2.FONT_HERSHEY_COMPLEX_SMALL\n",
    "count=0\n",
    "score=0\n",
    "thicc=2\n",
    "rpred=[99]\n",
    "lpred=[99]"
   ]
  },
  {
   "cell_type": "code",
   "execution_count": null,
   "id": "6140e29b",
   "metadata": {},
   "outputs": [],
   "source": []
  },
  {
   "cell_type": "code",
   "execution_count": 1,
   "id": "0f35e2f8",
   "metadata": {},
   "outputs": [
    {
     "name": "stdout",
     "output_type": "stream",
     "text": [
      "pygame 2.6.0 (SDL 2.28.4, Python 3.10.9)\n",
      "Hello from the pygame community. https://www.pygame.org/contribute.html\n"
     ]
    },
    {
     "data": {
      "image/png": "[encoded data removed]",
      "text/plain": [
       "<Figure size 640x480 with 1 Axes>"
      ]
     },
     "metadata": {},
     "output_type": "display_data"
    },
    {
     "ename": "error",
     "evalue": "OpenCV(4.10.0) D:\\a\\opencv-python\\opencv-python\\opencv\\modules\\highgui\\src\\window.cpp:1367: error: (-2:Unspecified error) The function is not implemented. Rebuild the library with Windows, GTK+ 2.x or Cocoa support. If you are on Ubuntu or Debian, install libgtk2.0-dev and pkg-config, then re-run cmake or configure script in function 'cvWaitKey'\n",
     "output_type": "error",
     "traceback": [
      "\u001b[1;31m---------------------------------------------------------------------------\u001b[0m",
      "\u001b[1;31merror\u001b[0m                                     Traceback (most recent call last)",
      "Cell \u001b[1;32mIn[1], line 115\u001b[0m\n\u001b[0;32m    112\u001b[0m         plt\u001b[38;5;241m.\u001b[39mimshow(cv2\u001b[38;5;241m.\u001b[39mcvtColor(frame, cv2\u001b[38;5;241m.\u001b[39mCOLOR_BGR2RGB))\n\u001b[0;32m    113\u001b[0m         plt\u001b[38;5;241m.\u001b[39mshow()\n\u001b[1;32m--> 115\u001b[0m         \u001b[38;5;28;01mif\u001b[39;00m \u001b[43mcv2\u001b[49m\u001b[38;5;241;43m.\u001b[39;49m\u001b[43mwaitKey\u001b[49m\u001b[43m(\u001b[49m\u001b[38;5;241;43m1\u001b[39;49m\u001b[43m)\u001b[49m \u001b[38;5;241m&\u001b[39m \u001b[38;5;241m0xFF\u001b[39m \u001b[38;5;241m==\u001b[39m \u001b[38;5;28mord\u001b[39m(\u001b[38;5;124m'\u001b[39m\u001b[38;5;124mq\u001b[39m\u001b[38;5;124m'\u001b[39m):\n\u001b[0;32m    116\u001b[0m             \u001b[38;5;28;01mbreak\u001b[39;00m\n\u001b[0;32m    118\u001b[0m \u001b[38;5;28;01mexcept\u001b[39;00m \u001b[38;5;167;01mKeyboardInterrupt\u001b[39;00m:\n",
      "\u001b[1;31merror\u001b[0m: OpenCV(4.10.0) D:\\a\\opencv-python\\opencv-python\\opencv\\modules\\highgui\\src\\window.cpp:1367: error: (-2:Unspecified error) The function is not implemented. Rebuild the library with Windows, GTK+ 2.x or Cocoa support. If you are on Ubuntu or Debian, install libgtk2.0-dev and pkg-config, then re-run cmake or configure script in function 'cvWaitKey'\n"
     ]
    }
   ],
   "source": [
    "import cv2\n",
    "import os\n",
    "from keras.models import load_model\n",
    "import numpy as np\n",
    "from pygame import mixer\n",
    "import matplotlib.pyplot as plt\n",
    "\n",
    "# Initialize pygame mixer\n",
    "mixer.init()\n",
    "sound = mixer.Sound('alarm.wav')\n",
    "\n",
    "# Load the Haar cascades for face and eyes detection\n",
    "face_cascade = cv2.CascadeClassifier(cv2.data.haarcascades + 'haarcascade_frontalface_alt.xml')\n",
    "leye_cascade = cv2.CascadeClassifier(cv2.data.haarcascades + 'haarcascade_lefteye_2splits.xml')\n",
    "reye_cascade = cv2.CascadeClassifier(cv2.data.haarcascades + 'haarcascade_righteye_2splits.xml')\n",
    "\n",
    "# Load the model\n",
    "model_path = r\"C:\\Users\\Nitesh\\Desktop\\MINOR PROJECTS\\MInor project 5\\Drowsiness detection\\models\\cnnCat2.h5\"\n",
    "model = load_model(model_path)\n",
    "\n",
    "# Start video capture\n",
    "cap = cv2.VideoCapture(1)  # Try changing the index to 1 if 0 doesn't work\n",
    "if not cap.isOpened():\n",
    "    print(\"Error: Could not open video capture\")\n",
    "    exit()\n",
    "\n",
    "path = os.getcwd()\n",
    "font = cv2.FONT_HERSHEY_COMPLEX_SMALL\n",
    "count = 0\n",
    "score = 0\n",
    "thicc = 2\n",
    "rpred = [99]\n",
    "lpred = [99]\n",
    "\n",
    "try:\n",
    "    while True:\n",
    "        ret, frame = cap.read()\n",
    "        if not ret:\n",
    "            print(\"Error: Failed to capture image\")\n",
    "            break\n",
    "\n",
    "        height, width = frame.shape[:2]\n",
    "        gray = cv2.cvtColor(frame, cv2.COLOR_BGR2GRAY)\n",
    "        \n",
    "        faces = face_cascade.detectMultiScale(gray, minNeighbors=5, scaleFactor=1.1, minSize=(25, 25))\n",
    "        left_eye = leye_cascade.detectMultiScale(gray)\n",
    "        right_eye = reye_cascade.detectMultiScale(gray)\n",
    "\n",
    "        cv2.rectangle(frame, (0, height - 50), (200, height), (0, 0, 0), thickness=cv2.FILLED)\n",
    "\n",
    "        for (x, y, w, h) in faces:\n",
    "            cv2.rectangle(frame, (x, y), (x + w, y + h), (100, 100, 100), 1)\n",
    "\n",
    "        for (x, y, w, h) in right_eye:\n",
    "            r_eye = frame[y:y + h, x:x + w]\n",
    "            count += 1\n",
    "            r_eye = cv2.cvtColor(r_eye, cv2.COLOR_BGR2GRAY)\n",
    "            r_eye = cv2.resize(r_eye, (24, 24))\n",
    "            r_eye = r_eye / 255\n",
    "            r_eye = r_eye.reshape(24, 24, -1)\n",
    "            r_eye = np.expand_dims(r_eye, axis=0)\n",
    "            rpred = model.predict(r_eye)\n",
    "            rpred = np.argmax(rpred, axis=1)\n",
    "            if rpred[0] == 1:\n",
    "                lbl = 'Open'\n",
    "            if rpred[0] == 0:\n",
    "                lbl = 'Closed'\n",
    "            break\n",
    "\n",
    "        for (x, y, w, h) in left_eye:\n",
    "            l_eye = frame[y:y + h, x:x + w]\n",
    "            count += 1\n",
    "            l_eye = cv2.cvtColor(l_eye, cv2.COLOR_BGR2GRAY)\n",
    "            l_eye = cv2.resize(l_eye, (24, 24))\n",
    "            l_eye = l_eye / 255\n",
    "            l_eye = l_eye.reshape(24, 24, -1)\n",
    "            l_eye = np.expand_dims(l_eye, axis=0)\n",
    "            lpred = model.predict(l_eye)\n",
    "            lpred = np.argmax(lpred, axis=1)\n",
    "            if lpred[0] == 1:\n",
    "                lbl = 'Open'\n",
    "            if lpred[0] == 0:\n",
    "                lbl = 'Closed'\n",
    "            break\n",
    "\n",
    "        if rpred[0] == 0 and lpred[0] == 0:\n",
    "            score += 1\n",
    "            cv2.putText(frame, \"Closed\", (10, height - 20), font, 1, (255, 255, 255), 1, cv2.LINE_AA)\n",
    "        else:\n",
    "            score -= 1\n",
    "            cv2.putText(frame, \"Open\", (10, height - 20), font, 1, (255, 255, 255), 1, cv2.LINE_AA)\n",
    "\n",
    "        if score < 0:\n",
    "            score = 0\n",
    "        cv2.putText(frame, 'Score:' + str(score), (100, height - 20), font, 1, (255, 255, 255), 1, cv2.LINE_AA)\n",
    "        if score > 15:\n",
    "            # Person is feeling sleepy so we beep the alarm\n",
    "            cv2.imwrite(os.path.join(path, 'image.jpg'), frame)\n",
    "            try:\n",
    "                sound.play()\n",
    "            except:  # isplaying = False\n",
    "                pass\n",
    "            if thicc < 16:\n",
    "                thicc += 2\n",
    "            else:\n",
    "                thicc -= 2\n",
    "                if thicc < 2:\n",
    "                    thicc = 2\n",
    "            cv2.rectangle(frame, (0, 0), (width, height), (0, 0, 255), thicc)\n",
    "\n",
    "        # Display frame using matplotlib\n",
    "        plt.imshow(cv2.cvtColor(frame, cv2.COLOR_BGR2RGB))\n",
    "        plt.show()\n",
    "        \n",
    "        if cv2.waitKey(1) & 0xFF == ord('q'):\n",
    "            break\n",
    "\n",
    "except KeyboardInterrupt:\n",
    "    print(\"Keyboard Interrupt: Exiting gracefully\")\n",
    "\n",
    "# Release the capture\n",
    "cap.release()\n",
    "\n",
    "# Clean up pygame mixer resources\n",
    "mixer.quit()\n"
   ]
  },
  {
   "cell_type": "code",
   "execution_count": null,
   "id": "68311f3b",
   "metadata": {},
   "outputs": [],
   "source": [
    "!pip uninstall opencv-python"
   ]
  },
  {
   "cell_type": "code",
   "execution_count": null,
   "id": "93b7f15e",
   "metadata": {},
   "outputs": [],
   "source": [
    "!pip install opencv-python"
   ]
  },
  {
   "cell_type": "code",
   "execution_count": null,
   "id": "84d38ee7",
   "metadata": {},
   "outputs": [],
   "source": []
  },
  {
   "cell_type": "code",
   "execution_count": 3,
   "id": "fb4b5038",
   "metadata": {},
   "outputs": [
    {
     "name": "stdout",
     "output_type": "stream",
     "text": [
      "Saved frame_1.jpg\n",
      "Saved frame_2.jpg\n",
      "Saved frame_3.jpg\n",
      "Saved frame_4.jpg\n",
      "Saved frame_5.jpg\n",
      "Saved frame_6.jpg\n",
      "Saved frame_7.jpg\n",
      "Saved frame_8.jpg\n",
      "Saved frame_9.jpg\n",
      "Saved frame_10.jpg\n",
      "Captured 10 frames.\n",
      "Frame 1: frame_1.jpg\n",
      "Frame 2: frame_2.jpg\n",
      "Frame 3: frame_3.jpg\n",
      "Frame 4: frame_4.jpg\n",
      "Frame 5: frame_5.jpg\n",
      "Frame 6: frame_6.jpg\n",
      "Frame 7: frame_7.jpg\n",
      "Frame 8: frame_8.jpg\n",
      "Frame 9: frame_9.jpg\n",
      "Frame 10: frame_10.jpg\n"
     ]
    }
   ],
   "source": [
    "import cv2\n",
    "\n",
    "# Open a connection to the webcam (0 is usually the default camera, change to 1 if you have multiple cameras)\n",
    "cap = cv2.VideoCapture(1)  # Change to 1 if 0 doesn't work\n",
    "\n",
    "# Check if the webcam is opened correctly\n",
    "if not cap.isOpened():\n",
    "    print(\"Error: Could not open video capture\")\n",
    "    exit()\n",
    "\n",
    "frame_count = 0  # Counter for the frames captured\n",
    "max_frames = 10  # Maximum number of frames to capture\n",
    "\n",
    "while frame_count < max_frames:\n",
    "    ret, frame = cap.read()\n",
    "    if not ret:\n",
    "        print(\"Error: Failed to capture image\")\n",
    "        break\n",
    "    \n",
    "    frame_count += 1\n",
    "    # Construct a filename to save the frame (you can modify this as needed)\n",
    "    filename = f\"frame_{frame_count}.jpg\"\n",
    "    \n",
    "    # Save the frame as an image\n",
    "    cv2.imwrite(filename, frame)\n",
    "    print(f\"Saved {filename}\")\n",
    "\n",
    "# Release the capture\n",
    "cap.release()\n",
    "\n",
    "# Print a message indicating completion\n",
    "print(f\"Captured {frame_count} frames.\")\n",
    "\n",
    "# Display the filenames of captured frames on the console\n",
    "for i in range(1, frame_count + 1):\n",
    "    print(f\"Frame {i}: frame_{i}.jpg\")\n"
   ]
  },
  {
   "cell_type": "code",
   "execution_count": null,
   "id": "bae97bca",
   "metadata": {},
   "outputs": [],
   "source": []
  }
 ],
 "metadata": {
  "kernelspec": {
   "display_name": "Python 3 (ipykernel)",
   "language": "python",
   "name": "python3"
  },
  "language_info": {
   "codemirror_mode": {
    "name": "ipython",
    "version": 3
   },
   "file_extension": ".py",
   "mimetype": "text/x-python",
   "name": "python",
   "nbconvert_exporter": "python",
   "pygments_lexer": "ipython3",
   "version": "3.10.9"
  }
 },
 "nbformat": 4,
 "nbformat_minor": 5
}
